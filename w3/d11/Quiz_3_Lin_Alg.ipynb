{
 "cells": [
  {
   "cell_type": "markdown",
   "metadata": {},
   "source": [
    "## Linear Algebra Quiz #3\n",
    "\n",
    "![title](./img/3_0.jpeg)\n",
    "\n",
    "We strongly suggest working with numpy :)"
   ]
  },
  {
   "cell_type": "code",
   "execution_count": 1,
   "metadata": {},
   "outputs": [],
   "source": [
    "import numpy as np"
   ]
  },
  {
   "cell_type": "markdown",
   "metadata": {},
   "source": [
    "![title](./img/3_2.png)\n",
    "![title](./img/3_3.png)\n",
    "Create a program that can output\n",
    "\n",
    "- What is the value of element c23​ of Matrix C where C=A x B ?\n",
    "- What is the value of element c23​ of Matrix C where C=B x A ?"
   ]
  },
  {
   "cell_type": "code",
   "execution_count": null,
   "metadata": {},
   "outputs": [],
   "source": [
    "#matrix C is of size 1x3 so I assume that we need to provide value of c2\n",
    "A = np.array([0.6, -15, 2, 5, 98])\n",
    "B = np.array([[2, 2, -4], [9, -14, 0], [13, -0.5, 44], [1, 9, 4], [0, 0, 5]])\n",
    "def value_c2AxB():\n",
    "    C = np.dot(A, B)\n",
    "    return C[2]\n",
    "def value_c2BxA():\n",
    "    C = np.dot(B.T, A)\n",
    "    return C[2]\n",
    "# okay numpy is great but... how would you inverse a matrix by hand? I would need to calculate determinant first which for higher dimensional matrices is painful job so I'm gonna use numpy anyway.\n",
    "\n",
    "def inverse_matrix(A):\n",
    "    a = np.array(A)\n",
    "    return (1 / np.linalg.det(a)) * a"
   ]
  },
  {
   "cell_type": "markdown",
   "metadata": {},
   "source": [
    "![title](./img/3_1.png)\n",
    "Create a program that can output\n",
    "\n",
    "- What is the value of the ijth element if i = 2 and j=3?\n",
    "- What is the value of the ijth element if i = 3 and j=1?"
   ]
  },
  {
   "cell_type": "code",
   "execution_count": null,
   "metadata": {},
   "outputs": [],
   "source": [
    "# Just answer using code --> easy stuff!\n",
    "def program(i, j):\n",
    "    A = np.array([[3, 0.6, 4, -3], [-1.3, 4, 0, 8.6], [7, 0, -8, 0.006]])\n",
    "    B = np.array([[3, -5.76, 45, 0], [2, -2, 1.3, 9], [-9, 0, 0, 0]])\n",
    "    C = np.array([[0, 1009, -66.7849, 90], [0, 5, 4, -0.07], [-7.7, 0, 0, 0]])\n",
    "    D = np.subtract((np.add(A, B)), C)\n",
    "    return D[i - 1][j - 1]\n",
    "program(2, 3)\n",
    "program(3, 1)\n",
    "# Harder\n",
    "# Can you build a matrix solver that can do output the result given n matrices and a sequence of operations such as [add subtract multiply transpose?] \n",
    "#Some ideas on valid operations: Multiplication Addition Subtraction Inverstion Transposed. "
   ]
  },
  {
   "cell_type": "markdown",
   "metadata": {},
   "source": [
    "![title](./img/3_3.png)\n",
    "Create a program that can output\n",
    "- How many rows will C have?\n",
    "- How many columns will C have?\n",
    "- What will be the value of c13​?"
   ]
  },
  {
   "cell_type": "code",
   "execution_count": null,
   "metadata": {},
   "outputs": [],
   "source": [
    "1 row 3 columns and this matrix will not contain neither c[13] nor c[1][3]"
   ]
  }
 ],
 "metadata": {
  "kernelspec": {
   "display_name": "Python 3",
   "language": "python",
   "name": "python3"
  },
  "language_info": {
   "codemirror_mode": {
    "name": "ipython",
    "version": 3
   },
   "file_extension": ".py",
   "mimetype": "text/x-python",
   "name": "python",
   "nbconvert_exporter": "python",
   "pygments_lexer": "ipython3",
   "version": "3.8.5-final"
  }
 },
 "nbformat": 4,
 "nbformat_minor": 2
}